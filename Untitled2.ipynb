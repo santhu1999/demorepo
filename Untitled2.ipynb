{
  "nbformat": 4,
  "nbformat_minor": 0,
  "metadata": {
    "colab": {
      "name": "Untitled2.ipynb",
      "provenance": [],
      "collapsed_sections": [],
      "authorship_tag": "ABX9TyMuakCXo/ZQXB+sP5ou6uHl",
      "include_colab_link": true
    },
    "kernelspec": {
      "name": "python3",
      "display_name": "Python 3"
    },
    "language_info": {
      "name": "python"
    }
  },
  "cells": [
    {
      "cell_type": "markdown",
      "metadata": {
        "id": "view-in-github",
        "colab_type": "text"
      },
      "source": [
        "<a href=\"https://colab.research.google.com/github/santhu1999/demorepo/blob/main/Untitled2.ipynb\" target=\"_parent\"><img src=\"https://colab.research.google.com/assets/colab-badge.svg\" alt=\"Open In Colab\"/></a>"
      ]
    },
    {
      "cell_type": "code",
      "execution_count": 2,
      "metadata": {
        "colab": {
          "base_uri": "https://localhost:8080/"
        },
        "id": "mycsCXyoylu8",
        "outputId": "7f0f4824-c798-4985-d1f4-73b544a9b4da"
      },
      "outputs": [
        {
          "output_type": "stream",
          "name": "stdout",
          "text": [
            "{'brand': 'Ford', 'model': 'Mustang', 'year': 1964}\n",
            "<class 'dict'>\n"
          ]
        }
      ],
      "source": [
        "car_info_dict = {\n",
        "    \"brand\": \"Ford\",\n",
        "    \"model\": \"Mustang\",\n",
        "    \"year\": 1964\n",
        "}\n",
        "print(car_info_dict)\n",
        "print(type(car_info_dict))"
      ]
    },
    {
      "cell_type": "code",
      "source": [
        "car_model_info = dict(brand=\"Tesla\", model=\"Model 3\",year='2017')\n",
        "print(car_model_info)"
      ],
      "metadata": {
        "colab": {
          "base_uri": "https://localhost:8080/"
        },
        "id": "7ZAaPBP46cNO",
        "outputId": "1df592db-a9e5-4ee0-b384-10cbe8775dd8"
      },
      "execution_count": 7,
      "outputs": [
        {
          "output_type": "stream",
          "name": "stdout",
          "text": [
            "{'brand': 'Tesla', 'model': 'Model 3', 'year': '2017'}\n"
          ]
        }
      ]
    },
    {
      "cell_type": "code",
      "source": [
        "car_tata_dict = {\n",
        "    \"brand\": \"Tata motors\",\n",
        "    \"model\": \"nexon\",\n",
        "    \"year\": 1964\n",
        "}\n",
        "model_value = car_tata_dict[\"brand\"]\n",
        "print(model_value)"
      ],
      "metadata": {
        "colab": {
          "base_uri": "https://localhost:8080/"
        },
        "id": "iE4SmMY47nx9",
        "outputId": "9ab20759-a8a8-42d9-a431-ea54645f69a5"
      },
      "execution_count": 11,
      "outputs": [
        {
          "output_type": "stream",
          "name": "stdout",
          "text": [
            "Tata motors\n"
          ]
        }
      ]
    },
    {
      "cell_type": "code",
      "source": [
        "model_value = car_tata_dict.get(\"model\")\n",
        "print(model_value)"
      ],
      "metadata": {
        "colab": {
          "base_uri": "https://localhost:8080/"
        },
        "id": "r0uiPycB8Y5q",
        "outputId": "e53798ac-26d9-4546-dd70-91e37e830015"
      },
      "execution_count": 12,
      "outputs": [
        {
          "output_type": "stream",
          "name": "stdout",
          "text": [
            "nexon\n"
          ]
        }
      ]
    },
    {
      "cell_type": "code",
      "source": [
        "\n",
        "car_info_dict = {\n",
        "  \"brand\": \"Ford\", \n",
        "  \"model\": \"Mustang\", \n",
        "  \"year\": 1964\n",
        "}\n",
        "print(car_info_dict)\n",
        "car_info_dict[\"color\"] = \"green\"\n",
        "print(car_info_dict)"
      ],
      "metadata": {
        "colab": {
          "base_uri": "https://localhost:8080/"
        },
        "id": "WUKoNGgt9p3W",
        "outputId": "172b0240-a5af-4916-a2cd-d0b9605db2d2"
      },
      "execution_count": 27,
      "outputs": [
        {
          "output_type": "stream",
          "name": "stdout",
          "text": [
            "{'brand': 'Ford', 'model': 'Mustang', 'year': 1964}\n",
            "{'brand': 'Ford', 'model': 'Mustang', 'year': 1964, 'color': 'green'}\n"
          ]
        }
      ]
    },
    {
      "cell_type": "code",
      "source": [
        "for entry in car_info_dict:\n",
        "  print(entry)"
      ],
      "metadata": {
        "colab": {
          "base_uri": "https://localhost:8080/"
        },
        "id": "q6KE_CL7-31v",
        "outputId": "e92af49a-7696-4dd8-f8ac-73486b176e97"
      },
      "execution_count": 20,
      "outputs": [
        {
          "output_type": "stream",
          "name": "stdout",
          "text": [
            "brand\n",
            "model\n",
            "year\n"
          ]
        }
      ]
    },
    {
      "cell_type": "code",
      "source": [
        "for entry in car_info_dict:\n",
        "  print(car_info_dict[entry])"
      ],
      "metadata": {
        "colab": {
          "base_uri": "https://localhost:8080/"
        },
        "id": "-nSnMJMO_HxZ",
        "outputId": "3ab841c5-d8fe-408e-f352-1a0ee5433340"
      },
      "execution_count": 23,
      "outputs": [
        {
          "output_type": "stream",
          "name": "stdout",
          "text": [
            "Ford\n",
            "Mustang\n",
            "2018\n"
          ]
        }
      ]
    },
    {
      "cell_type": "code",
      "source": [
        "for entry in car_info_dict.values():\n",
        "  print(entry)\n"
      ],
      "metadata": {
        "colab": {
          "base_uri": "https://localhost:8080/"
        },
        "id": "q6Z0yeI1_cAM",
        "outputId": "1a4e0746-4034-414c-e9ff-6ddc076957bf"
      },
      "execution_count": 24,
      "outputs": [
        {
          "output_type": "stream",
          "name": "stdout",
          "text": [
            "Ford\n",
            "Mustang\n",
            "2018\n"
          ]
        }
      ]
    },
    {
      "cell_type": "code",
      "source": [
        "for key,value in car_info_dict.items():\n",
        "  print(key,value)"
      ],
      "metadata": {
        "colab": {
          "base_uri": "https://localhost:8080/"
        },
        "id": "DOiCkXaUAjjZ",
        "outputId": "e5236fef-9eb9-4bfc-c119-944291f6d80b"
      },
      "execution_count": 25,
      "outputs": [
        {
          "output_type": "stream",
          "name": "stdout",
          "text": [
            "brand Ford\n",
            "model Mustang\n",
            "year 2018\n"
          ]
        }
      ]
    },
    {
      "cell_type": "code",
      "source": [
        "car_model_info"
      ],
      "metadata": {
        "id": "YxwyZ-9gAjiJ"
      },
      "execution_count": null,
      "outputs": []
    },
    {
      "cell_type": "code",
      "source": [
        "family = {\n",
        "    \"child\":{\n",
        "        \"name\": \"san\",\n",
        "        \"year\": 2004\n",
        "    },\n",
        "    \"child2\": {\n",
        "        \"name\": \"ban\",\n",
        "        \"year\": 2005\n",
        "    },\n",
        "    \"child3\": {\n",
        "        \"name\": \"kom\",\n",
        "        \"year\": 3004\n",
        "    }\n",
        "}\n",
        "print(family)"
      ],
      "metadata": {
        "colab": {
          "base_uri": "https://localhost:8080/"
        },
        "id": "fbhpRDyMCLzc",
        "outputId": "c7e365c2-a27d-41c6-adec-2faafb626cca"
      },
      "execution_count": 29,
      "outputs": [
        {
          "output_type": "stream",
          "name": "stdout",
          "text": [
            "{'child': {'name': 'san', 'year': 2004}, 'child2': {'name': 'ban', 'year': 2005}, 'child3': {'name': 'kom', 'year': 3004}}\n"
          ]
        }
      ]
    }
  ]
}