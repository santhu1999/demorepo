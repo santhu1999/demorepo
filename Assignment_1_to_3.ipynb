{
  "nbformat": 4,
  "nbformat_minor": 0,
  "metadata": {
    "colab": {
      "name": "Assignment 1 to 3.ipynb",
      "provenance": [],
      "collapsed_sections": [],
      "authorship_tag": "ABX9TyObV196skZrBZu5r3Qi/03c",
      "include_colab_link": true
    },
    "kernelspec": {
      "name": "python3",
      "display_name": "Python 3"
    },
    "language_info": {
      "name": "python"
    }
  },
  "cells": [
    {
      "cell_type": "markdown",
      "metadata": {
        "id": "view-in-github",
        "colab_type": "text"
      },
      "source": [
        "<a href=\"https://colab.research.google.com/github/santhu1999/demorepo/blob/main/Assignment_1_to_3.ipynb\" target=\"_parent\"><img src=\"https://colab.research.google.com/assets/colab-badge.svg\" alt=\"Open In Colab\"/></a>"
      ]
    },
    {
      "cell_type": "markdown",
      "source": [
        "**Simple** **Calculator**"
      ],
      "metadata": {
        "id": "OvfHzTS921qB"
      }
    },
    {
      "cell_type": "code",
      "source": [
        "#python code for simple calculator\n",
        "\n",
        "#take inputs\n",
        "num1 = float(input(\"Enter a number\"))\n",
        "num2 = float(input(\"Enter a number\"))\n",
        "#choose operations\n",
        "print('operation: +, -, *, /')\n",
        "# input operation\n",
        "select = input(\"select operations:\")\n",
        "#addition\n",
        "if select == \"+\":\n",
        "  print(num1,\"+\",num2,\"=\",num1+num2)\n",
        "# subtraction\n",
        "elif select == \"-\":\n",
        "  print(num1,'-',num2,'=',num1-num2)\n",
        "#multiplication\n",
        "elif select == \"*\":\n",
        "  print(num1,'*',num2,'=',num1*num2)\n",
        "#division\n",
        "elif select == \"/\":\n",
        "  print(num1,'/',num2,'=',num1/num2)\n",
        "else:\n",
        "  print(\"Invalid number\")\n",
        "               "
      ],
      "metadata": {
        "colab": {
          "base_uri": "https://localhost:8080/"
        },
        "id": "xW0ysXmn2-B7",
        "outputId": "dbc24259-0c57-4b5d-8acf-ccb6ad330f8d"
      },
      "execution_count": null,
      "outputs": [
        {
          "output_type": "stream",
          "name": "stdout",
          "text": [
            "Enter a number6\n",
            "Enter a number7\n",
            "operation: +, -, *, /\n",
            "select operations:+\n",
            "6.0 + 7.0 = 13.0\n"
          ]
        }
      ]
    },
    {
      "cell_type": "markdown",
      "source": [
        "**Area** **of** **Rectangle**"
      ],
      "metadata": {
        "id": "-zGh0b729O8k"
      }
    },
    {
      "cell_type": "code",
      "source": [
        "#take inputs \n",
        "length = float(input('Enter the length of Rectangle'))\n",
        "width = float (input('Enter the width of Rectangle'))\n",
        "#calculate area\n",
        "Area = length * width\n",
        "#print area\n",
        "print(\"The area of Rectangle is\",Area)"
      ],
      "metadata": {
        "colab": {
          "base_uri": "https://localhost:8080/"
        },
        "id": "z8uHIwLG9VZ4",
        "outputId": "f4d22de7-b4ca-4da3-974c-e71403e4805c"
      },
      "execution_count": null,
      "outputs": [
        {
          "output_type": "stream",
          "name": "stdout",
          "text": [
            "Enter the length of Rectangle89\n",
            "Enter the width of Rectangle89\n",
            "The area of Rectangle is 7921.0\n"
          ]
        }
      ]
    },
    {
      "cell_type": "markdown",
      "source": [
        "**Area** **of** **circle**"
      ],
      "metadata": {
        "id": "3nazJ0gM-eWi"
      }
    },
    {
      "cell_type": "code",
      "source": [
        "#assign pi value\n",
        "pi = 3.14\n",
        "#take input radius\n",
        "radius = float(input(\"Enter the radius of circle\"))\n",
        "#calculate area\n",
        "area = pi*radius*radius\n",
        "#print area\n",
        "print('The area of circle is',area)"
      ],
      "metadata": {
        "colab": {
          "base_uri": "https://localhost:8080/"
        },
        "id": "1WUwPG29-eB6",
        "outputId": "03de1ef0-fe89-4f66-fc17-751e771b252e"
      },
      "execution_count": null,
      "outputs": [
        {
          "output_type": "stream",
          "name": "stdout",
          "text": [
            "Enter the radius of circle45\n",
            "The area of circle is 6358.500000000001\n"
          ]
        }
      ]
    },
    {
      "cell_type": "markdown",
      "source": [
        "**List** **Mutablity** \n"
      ],
      "metadata": {
        "id": "6eyn3aJvDmYk"
      }
    },
    {
      "cell_type": "code",
      "source": [
        "#define list\n",
        "new_list = [1, 2,3,'one','two','three']\n",
        "#print list\n",
        "print(new_list)\n",
        "#change content in list\n",
        "new_list[2] = 5\n",
        "#print list\n",
        "print(new_list)"
      ],
      "metadata": {
        "colab": {
          "base_uri": "https://localhost:8080/"
        },
        "id": "uQ4ZbQRPARnA",
        "outputId": "2ce5968b-6bcc-49f0-efe6-c775ad7b9a98"
      },
      "execution_count": null,
      "outputs": [
        {
          "output_type": "stream",
          "name": "stdout",
          "text": [
            "[1, 2, 3, 'one', 'two', 'three']\n",
            "[1, 2, 5, 'one', 'two', 'three']\n"
          ]
        }
      ]
    },
    {
      "cell_type": "code",
      "source": [
        "new_list = [1, 2,3,'one','two','three']\n",
        "print(new_list)\n",
        "new_list.append ('five')\n",
        "print(new_list)"
      ],
      "metadata": {
        "colab": {
          "base_uri": "https://localhost:8080/"
        },
        "id": "KsJX1iadERwA",
        "outputId": "73b650af-f9a6-4c7b-ee09-72127a28dafa"
      },
      "execution_count": null,
      "outputs": [
        {
          "output_type": "stream",
          "name": "stdout",
          "text": [
            "[1, 2, 3, 'one', 'two', 'three']\n",
            "[1, 2, 3, 'one', 'two', 'three', 'five']\n"
          ]
        }
      ]
    },
    {
      "cell_type": "code",
      "source": [
        "new_list = [1, 2,3,'one','two','three']\n",
        "print(new_list)\n",
        "new_list.insert (6,'six')\n",
        "print(new_list)"
      ],
      "metadata": {
        "colab": {
          "base_uri": "https://localhost:8080/"
        },
        "id": "5WwwRxuWEnF7",
        "outputId": "2159dca1-6ab2-4b0a-d00c-9d1b4c5fa63e"
      },
      "execution_count": null,
      "outputs": [
        {
          "output_type": "stream",
          "name": "stdout",
          "text": [
            "[1, 2, 3, 'one', 'two', 'three']\n",
            "[1, 2, 3, 'one', 'two', 'three', 'six']\n"
          ]
        }
      ]
    },
    {
      "cell_type": "markdown",
      "source": [
        "**Tuple** **mutuablity** **test**"
      ],
      "metadata": {
        "id": "qihb_iotExLQ"
      }
    },
    {
      "cell_type": "code",
      "source": [
        "#define tuple\n",
        " = (1,2, 3,4,'one','two','three','fore')\n",
        " #print tuple\n",
        "print(new_tuple)\n",
        "new_tuple[2] = \"six\" #error"
      ],
      "metadata": {
        "colab": {
          "base_uri": "https://localhost:8080/",
          "height": 131
        },
        "id": "Sk6gw8P5FdnG",
        "outputId": "c68fa210-6abc-4bfb-b399-0f19b48d3539"
      },
      "execution_count": null,
      "outputs": [
        {
          "output_type": "error",
          "ename": "IndentationError",
          "evalue": "ignored",
          "traceback": [
            "\u001b[0;36m  File \u001b[0;32m\"<ipython-input-42-b06f40380c15>\"\u001b[0;36m, line \u001b[0;32m2\u001b[0m\n\u001b[0;31m    = (1,2, 3,4,'one','two','three','fore')\u001b[0m\n\u001b[0m    ^\u001b[0m\n\u001b[0;31mIndentationError\u001b[0m\u001b[0;31m:\u001b[0m unexpected indent\n"
          ]
        }
      ]
    },
    {
      "cell_type": "markdown",
      "source": [
        "**Conversion from list to tuples** \n"
      ],
      "metadata": {
        "id": "GnGXJi_iGLbb"
      }
    },
    {
      "cell_type": "code",
      "source": [
        "#define list\n",
        "new_list = [1,2,3,'one','two','three']\n",
        "#print list\n",
        "print(new_list)\n",
        "print(type(new_list))\n",
        "\n",
        "#converting list to tuple\n",
        "new_tuple = tuple(new_list)\n",
        "print(new_tuple)\n",
        "#check type \n",
        "print(type(new_tuple))"
      ],
      "metadata": {
        "colab": {
          "base_uri": "https://localhost:8080/"
        },
        "id": "MDkL0RVwGKly",
        "outputId": "985dbad7-d2b5-41db-d359-46b5e122f29f"
      },
      "execution_count": null,
      "outputs": [
        {
          "output_type": "stream",
          "name": "stdout",
          "text": [
            "[1, 2, 3, 'one', 'two', 'three']\n",
            "<class 'list'>\n",
            "(1, 2, 3, 'one', 'two', 'three')\n",
            "<class 'tuple'>\n"
          ]
        }
      ]
    },
    {
      "cell_type": "markdown",
      "source": [
        "**Tuple** **to** **list**"
      ],
      "metadata": {
        "id": "jtzKS4hAHmy7"
      }
    },
    {
      "cell_type": "code",
      "source": [
        "#define tuple\n",
        "new_tuple = 1,2,3,'one','two','three'\n",
        "#print tuple\n",
        "print(new_tuple)\n",
        "print(type(new_tuple))\n",
        "\n",
        "#converting tuple to list\n",
        "new_list = list(new_tuple)\n",
        "print(new_list)\n",
        "#check type \n",
        "print(type(new_list))"
      ],
      "metadata": {
        "colab": {
          "base_uri": "https://localhost:8080/"
        },
        "id": "fpVNanQ5HkjI",
        "outputId": "f191740f-b8ea-4387-f985-676e10027ae9"
      },
      "execution_count": null,
      "outputs": [
        {
          "output_type": "stream",
          "name": "stdout",
          "text": [
            "(1, 2, 3, 'one', 'two', 'three')\n",
            "<class 'tuple'>\n",
            "[1, 2, 3, 'one', 'two', 'three']\n",
            "<class 'list'>\n"
          ]
        }
      ]
    },
    {
      "cell_type": "markdown",
      "source": [
        "**Convert** **Float** **to** **integer**"
      ],
      "metadata": {
        "id": "HG1Eh4zIITdX"
      }
    },
    {
      "cell_type": "code",
      "source": [
        "#float\n",
        "a = 5.0\n",
        "print(a)\n",
        "#check type\n",
        "print(type(a))\n",
        "#conversion float to int\n",
        "b = int(a)\n",
        "print(b)\n",
        "print(type(b))"
      ],
      "metadata": {
        "colab": {
          "base_uri": "https://localhost:8080/"
        },
        "id": "p7k_n6EtISxg",
        "outputId": "4512c951-8f51-4c69-c16c-ae77ae614657"
      },
      "execution_count": null,
      "outputs": [
        {
          "output_type": "stream",
          "name": "stdout",
          "text": [
            "5.0\n",
            "<class 'float'>\n",
            "5\n",
            "<class 'int'>\n"
          ]
        }
      ]
    },
    {
      "cell_type": "markdown",
      "source": [
        "**Int** **to** **Float**"
      ],
      "metadata": {
        "id": "ZmFkn7xsHN3V"
      }
    },
    {
      "cell_type": "code",
      "source": [
        "#int\n",
        "a = 5\n",
        "print(a)\n",
        "print(type(a))\n",
        "#type conversion\n",
        "b = float(a)#float\n",
        "print(b)\n",
        "print(type(b))"
      ],
      "metadata": {
        "colab": {
          "base_uri": "https://localhost:8080/"
        },
        "id": "0CEkxOShJAch",
        "outputId": "1e6283f0-81db-4b27-a5b4-583f8b20185f"
      },
      "execution_count": null,
      "outputs": [
        {
          "output_type": "stream",
          "name": "stdout",
          "text": [
            "5\n",
            "<class 'int'>\n",
            "5.0\n",
            "<class 'float'>\n"
          ]
        }
      ]
    },
    {
      "cell_type": "markdown",
      "source": [
        "**Assignment** **2**"
      ],
      "metadata": {
        "id": "cVyadm_MJfgZ"
      }
    },
    {
      "cell_type": "markdown",
      "source": [
        "list Slicing"
      ],
      "metadata": {
        "id": "KPJxrPGeKDs2"
      }
    },
    {
      "cell_type": "code",
      "source": [
        "#define list\n",
        "new_list = [1,2,3,'four','five','six','seven']\n",
        "print(new_list)\n",
        "# slicing list\n",
        "print(new_list[:3])\n",
        "print(new_list[3:4])"
      ],
      "metadata": {
        "colab": {
          "base_uri": "https://localhost:8080/"
        },
        "id": "MG5v7xSuJjtp",
        "outputId": "fd06d2c9-9584-4008-bb83-2518e3b00ad8"
      },
      "execution_count": null,
      "outputs": [
        {
          "output_type": "stream",
          "name": "stdout",
          "text": [
            "[1, 2, 3, 'four', 'five', 'six', 'seven']\n",
            "[1, 2, 3]\n",
            "['four']\n"
          ]
        }
      ]
    },
    {
      "cell_type": "markdown",
      "source": [
        "**concatenate** **two** **strings**"
      ],
      "metadata": {
        "id": "MlOv504xMCBu"
      }
    },
    {
      "cell_type": "code",
      "source": [
        "#define two list\n",
        "list_first = ['Three',' hundred']\n",
        "print(list_first)\n",
        "list_second = ['sixty','five']\n",
        "print(list_second)\n",
        "# combine two list\n",
        "list_combined = list_first + list_second\n",
        "print(list_combined)"
      ],
      "metadata": {
        "colab": {
          "base_uri": "https://localhost:8080/"
        },
        "id": "KdHzopR-LMe-",
        "outputId": "7fba8f9c-8e88-4556-b03f-b1ebc633a832"
      },
      "execution_count": null,
      "outputs": [
        {
          "output_type": "stream",
          "name": "stdout",
          "text": [
            "['Three', ' hundred']\n",
            "['sixty', 'five']\n",
            "['Three', ' hundred', 'sixty', 'five']\n"
          ]
        }
      ]
    },
    {
      "cell_type": "markdown",
      "source": [
        "**Sort** **a** **list**"
      ],
      "metadata": {
        "id": "p28azkmYNNaM"
      }
    },
    {
      "cell_type": "code",
      "source": [
        "new_list =[3,2,5,6,7,1,2,3,9,78,5,64,5,3,4,45,5,]\n",
        "print(new_list)\n",
        "print(\"the sorted list\")\n",
        "\n",
        "new_list.sort()\n",
        "print(new_list)"
      ],
      "metadata": {
        "colab": {
          "base_uri": "https://localhost:8080/"
        },
        "id": "b6G4pRQvNNCj",
        "outputId": "b17294df-e29d-4bb2-de82-c9f4c5c31abf"
      },
      "execution_count": null,
      "outputs": [
        {
          "output_type": "stream",
          "name": "stdout",
          "text": [
            "[3, 2, 5, 6, 7, 1, 2, 3, 9, 78, 5, 64, 5, 3, 4, 45, 5]\n",
            "the sorted list\n",
            "[1, 2, 2, 3, 3, 3, 4, 5, 5, 5, 5, 6, 7, 9, 45, 64, 78]\n"
          ]
        }
      ]
    },
    {
      "cell_type": "markdown",
      "source": [
        "**list**. /extend/append/remove/insert/pop"
      ],
      "metadata": {
        "id": "EwOtOww1Qijc"
      }
    },
    {
      "cell_type": "code",
      "source": [
        "#define list\n",
        "new_list = [1,2,3,4,'five','six','seven']\n",
        "print(new_list)\n",
        "#operations\n",
        "print('operations:- append, extend, insert, remove, pop')\n",
        "#select\n",
        "select = input('select operations')\n",
        "#append\n",
        "if select == 'append':\n",
        "  new_list.append(\"eight\")\n",
        "  print(new_list)\n",
        "#extend\n",
        "elif select == 'extend':\n",
        "  new_list.extend(['these are numbers'])\n",
        "  print(new_list)\n",
        "#insert\n",
        "elif select == 'insert':\n",
        "  new_list.insert(2,'hi insert')\n",
        "  print(new_list)\n",
        "#remove\n",
        "elif select == 'remove':\n",
        "  new_list.remove('five')\n",
        "  print(new_list)\n",
        "#pop\n",
        "elif select == 'pop':\n",
        "  new_list.pop(2)\n",
        "  print(new_list)\n",
        "\n"
      ],
      "metadata": {
        "colab": {
          "base_uri": "https://localhost:8080/"
        },
        "id": "45j7yogKQke5",
        "outputId": "ff2517cc-cc69-4106-f4ca-681e66da840a"
      },
      "execution_count": null,
      "outputs": [
        {
          "output_type": "stream",
          "name": "stdout",
          "text": [
            "[1, 2, 3, 4, 'five', 'six', 'seven']\n",
            "operations:- append, extend, insert, remove, pop\n",
            "select operationsinsert\n",
            "[1, 2, 'hi insert', 3, 4, 'five', 'six', 'seven']\n"
          ]
        }
      ]
    },
    {
      "cell_type": "markdown",
      "source": [
        "**Assignment** **3**"
      ],
      "metadata": {
        "id": "Vu5XF_eDQihR"
      }
    },
    {
      "cell_type": "markdown",
      "source": [
        "Reverse a number"
      ],
      "metadata": {
        "id": "ajuW5EcyVAyj"
      }
    },
    {
      "cell_type": "code",
      "source": [
        "num = 12345\n",
        "print(num)\n",
        "print(\"The reverse number are\")\n",
        "print(str(num)[::-1])"
      ],
      "metadata": {
        "colab": {
          "base_uri": "https://localhost:8080/"
        },
        "id": "-T4P-nN4VAcg",
        "outputId": "58d49564-e3b6-4d6a-a02d-8f468f9f93d3"
      },
      "execution_count": null,
      "outputs": [
        {
          "output_type": "stream",
          "name": "stdout",
          "text": [
            "12345\n",
            "The reverse number are\n",
            "54321\n"
          ]
        }
      ]
    },
    {
      "cell_type": "markdown",
      "source": [
        "**Armstrong** **no**"
      ],
      "metadata": {
        "id": "NsRIDa9sXggC"
      }
    },
    {
      "cell_type": "code",
      "source": [
        "#input\n",
        "num = int(input(\"enter the number\"))\n",
        "#initialize sum\n",
        "sum = 0\n",
        "temp = num\n",
        "#find sum of the cube of each digit\n",
        "while temp > 0:\n",
        "  digit = temp % 10\n",
        "  sum += digit ** 3\n",
        "  temp //= 10\n",
        "if num == sum:#print result\n",
        "  print(num,\"is Armstrong no\")\n",
        "else:\n",
        "  print(num,\"is not Armstrong no\")\n",
        "\n"
      ],
      "metadata": {
        "colab": {
          "base_uri": "https://localhost:8080/"
        },
        "id": "WapY5KyXXapP",
        "outputId": "0088726b-c3f3-4f46-d2cc-b367aa466a0b"
      },
      "execution_count": null,
      "outputs": [
        {
          "output_type": "stream",
          "name": "stdout",
          "text": [
            "enter the number567\n",
            "567 is not Armstrong no\n"
          ]
        }
      ]
    },
    {
      "cell_type": "markdown",
      "source": [
        " **Palindrome** **no**"
      ],
      "metadata": {
        "id": "0MSSjUeVXgeM"
      }
    },
    {
      "cell_type": "code",
      "source": [
        "# function return reverse of a string\n",
        "def isPalindrome(s):\n",
        "\treturn s == s[::-1]\n",
        "  \n",
        "#user input\n",
        "s = input(\"enter a character\")\n",
        "ans = isPalindrome(s)\n",
        "\n",
        "if ans:\n",
        "\tprint(\"palindrome\")\n",
        "else:\n",
        "\tprint(\"Not palindrome\")"
      ],
      "metadata": {
        "colab": {
          "base_uri": "https://localhost:8080/"
        },
        "id": "QL8wBowQXan0",
        "outputId": "4940d6e8-5b5b-4c8c-f9c8-db1a0824ad83"
      },
      "execution_count": null,
      "outputs": [
        {
          "output_type": "stream",
          "name": "stdout",
          "text": [
            "enter a character2002\n",
            "palindrome\n"
          ]
        }
      ]
    },
    {
      "cell_type": "markdown",
      "source": [
        "**Fibonacci Sequence**"
      ],
      "metadata": {
        "id": "XiD8tsXlujhT"
      }
    },
    {
      "cell_type": "code",
      "source": [
        "nterms = int(input(\"how many terms\"))\n",
        "n1, n2 = 0, 1\n",
        "count = 0\n",
        "if nterms <= 0:\n",
        "  print(\"please Enter a positive number\")\n",
        "elif nterms == 1:\n",
        "   print(\"Fibonacci sequence upto\",nterms,\":\")\n",
        "   print(n1)\n",
        "# generate fibonacci sequence\n",
        "else:\n",
        "   print(\"Fibonacci sequence:\")\n",
        "   while count < nterms:\n",
        "       print(n1)\n",
        "       nth = n1 + n2\n",
        "       # update values\n",
        "       n1 = n2\n",
        "       n2 = nth\n",
        "       count += 1\n",
        "\n"
      ],
      "metadata": {
        "colab": {
          "base_uri": "https://localhost:8080/"
        },
        "id": "n8Y188C3dOsV",
        "outputId": "3a82749c-efb3-47cc-eaec-4a448c43ca2c"
      },
      "execution_count": null,
      "outputs": [
        {
          "output_type": "stream",
          "name": "stdout",
          "text": [
            "how many terms10\n",
            "Fibonacci sequence:\n",
            "0\n",
            "1\n",
            "1\n",
            "2\n",
            "3\n",
            "5\n",
            "8\n",
            "13\n",
            "21\n",
            "34\n"
          ]
        }
      ]
    },
    {
      "cell_type": "markdown",
      "source": [
        "**Factorial** **of** **a** **number**"
      ],
      "metadata": {
        "id": "CmfVSBgduqtD"
      }
    },
    {
      "cell_type": "code",
      "source": [
        "# factorial of a number\n",
        "def factorial(x):\n",
        "    if x == 1:\n",
        "        return 1\n",
        "    else:\n",
        "        return (x * factorial(x-1))\n",
        "num = int(input(\"enter a number\"))\n",
        "\n",
        "result = factorial(num)\n",
        "print(\"The factorial of\", num, \"is\", result)"
      ],
      "metadata": {
        "colab": {
          "base_uri": "https://localhost:8080/"
        },
        "id": "dgRJyAqLu0HE",
        "outputId": "4495c0a9-d408-48d5-86c5-adde12e9e698"
      },
      "execution_count": null,
      "outputs": [
        {
          "output_type": "stream",
          "name": "stdout",
          "text": [
            "enter a number45\n",
            "The factorial of 45 is 119622220865480194561963161495657715064383733760000000000\n"
          ]
        }
      ]
    }
  ]
}